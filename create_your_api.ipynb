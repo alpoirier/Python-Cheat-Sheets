{
  "cells": [
    {
      "cell_type": "markdown",
      "metadata": {
        "id": "mKPWKTsJIcJk"
      },
      "source": [
        "# How to create your own API"
      ]
    },
    {
      "cell_type": "markdown",
      "metadata": {
        "id": "oIQnp-GAIcJm"
      },
      "source": [
        "- How can we make different softwares communicate? All we need is an API"
      ]
    },
    {
      "cell_type": "markdown",
      "metadata": {
        "id": "tnjhnS-zIcJp"
      },
      "source": [
        "An API (**Application Programming Interface**) defines the types of requests that a software can make to another"
      ]
    },
    {
      "cell_type": "markdown",
      "metadata": {
        "id": "cLC6WaclIcJr"
      },
      "source": [
        "Requests are classified into\n",
        "\n",
        "- GET/POST/PUT/PATCH/DELETE "
      ]
    },
    {
      "cell_type": "markdown",
      "metadata": {
        "id": "Orq0i73ZIcJs"
      },
      "source": [
        "## Example"
      ]
    },
    {
      "cell_type": "markdown",
      "metadata": {
        "id": "jbuGsHt4IcJt"
      },
      "source": [
        "Let's consider a toy model in which we have data on firms, CEOs, and their compensation. "
      ]
    },
    {
      "cell_type": "code",
      "execution_count": 1,
      "metadata": {
        "id": "zqJM1SwnIcJt",
        "outputId": "dd77de95-7906-4818-9a32-306475f159c9",
        "colab": {
          "base_uri": "https://localhost:8080/"
        }
      },
      "outputs": [
        {
          "output_type": "stream",
          "name": "stdout",
          "text": [
            "             Name  Age\n",
            "0  Doug McMillion   55\n",
            "1      Fu Chengyu   70\n",
            "2      Andy Jassy   53\n",
            "3     Zhou Jiping   69\n",
            "4        Tim Cook   60\n",
            "                                 Name Ticker  Revenue (billions)  \\\n",
            "0                        Walmart Inc.    WMT               542.0   \n",
            "1  China Petroleum and Chemical Corp.    SNP               355.8   \n",
            "2                      Amazon.com Inc   AMZN               321.8   \n",
            "3                  PetroChina Co. Ltd    PTR               320.0   \n",
            "4                          Apple Inc.   AAPL               273.9   \n",
            "\n",
            "              CEO  \n",
            "0  Doug McMillion  \n",
            "1      Fu Chengyu  \n",
            "2      Jeff Bezos  \n",
            "3     Zhou Jiping  \n",
            "4        Tim Cook  \n"
          ]
        }
      ],
      "source": [
        "import pandas as pd\n",
        "\n",
        "ceos = [{\"Name\" : \"Doug McMillion\", \"Age\" : 55},\n",
        "        {\"Name\" : \"Fu Chengyu\", \"Age\" : 70}, \n",
        "        {\"Name\" : \"Andy Jassy\", \"Age\" : 53}, \n",
        "        {\"Name\" : \"Zhou Jiping\", \"Age\" : 69}, \n",
        "        {\"Name\" : \"Tim Cook\", \"Age\" : 60}]\n",
        "\n",
        "companies = [{\"Name\" : \"Walmart Inc.\", \"Ticker\" : \"WMT\", \"Revenue (billions)\" : 542, \"CEO\" : \"Doug McMillion\"},\n",
        "             {\"Name\" : \"China Petroleum and Chemical Corp.\", \"Ticker\" : \"SNP\", \"Revenue (billions)\" : 355.8, \"CEO\" : \"Fu Chengyu\"},\n",
        "             {\"Name\" : \"Amazon.com Inc\", \"Ticker\" : \"AMZN\", \"Revenue (billions)\" : 321.8, \"CEO\" : \"Jeff Bezos\"}, \n",
        "             {\"Name\" : \"PetroChina Co. Ltd\", \"Ticker\" : \"PTR\", \"Revenue (billions)\" : 320, \"CEO\" : \"Zhou Jiping\"}, \n",
        "             {\"Name\" : \"Apple Inc.\", \"Ticker\" : \"AAPL\", \"Revenue (billions)\" : 273.9, \"CEO\" : \"Tim Cook\"}]\n",
        "\n",
        "df_ceos = pd.DataFrame.from_dict(ceos)\n",
        "print(df_ceos.head())\n",
        "\n",
        "df_companies = pd.DataFrame.from_dict(companies)\n",
        "print(df_companies)"
      ]
    },
    {
      "cell_type": "markdown",
      "metadata": {
        "id": "HSSvRII-IcJu"
      },
      "source": [
        "## Basic REST API\n",
        "- Representational state transfer\n",
        "- An API requires an internet connection or at least a localhost\n",
        "- We will use Python's Flask library to create the API\n",
        "- Requests are done via HTTP requests (urls)"
      ]
    },
    {
      "cell_type": "code",
      "execution_count": 2,
      "metadata": {
        "id": "d_Sr1PhoIcJw",
        "outputId": "53b85895-cc04-4c60-ec38-bb55648c8302",
        "colab": {
          "base_uri": "https://localhost:8080/"
        }
      },
      "outputs": [
        {
          "output_type": "stream",
          "name": "stdout",
          "text": [
            "Looking in indexes: https://pypi.org/simple, https://us-python.pkg.dev/colab-wheels/public/simple/\n",
            "Requirement already satisfied: flask in /usr/local/lib/python3.7/dist-packages (1.1.4)\n",
            "Requirement already satisfied: click<8.0,>=5.1 in /usr/local/lib/python3.7/dist-packages (from flask) (7.1.2)\n",
            "Requirement already satisfied: itsdangerous<2.0,>=0.24 in /usr/local/lib/python3.7/dist-packages (from flask) (1.1.0)\n",
            "Requirement already satisfied: Jinja2<3.0,>=2.10.1 in /usr/local/lib/python3.7/dist-packages (from flask) (2.11.3)\n",
            "Requirement already satisfied: Werkzeug<2.0,>=0.15 in /usr/local/lib/python3.7/dist-packages (from flask) (1.0.1)\n",
            "Requirement already satisfied: MarkupSafe>=0.23 in /usr/local/lib/python3.7/dist-packages (from Jinja2<3.0,>=2.10.1->flask) (2.0.1)\n",
            "Looking in indexes: https://pypi.org/simple, https://us-python.pkg.dev/colab-wheels/public/simple/\n",
            "Collecting flask_restful\n",
            "  Downloading Flask_RESTful-0.3.9-py2.py3-none-any.whl (25 kB)\n",
            "Requirement already satisfied: pytz in /usr/local/lib/python3.7/dist-packages (from flask_restful) (2022.5)\n",
            "Requirement already satisfied: Flask>=0.8 in /usr/local/lib/python3.7/dist-packages (from flask_restful) (1.1.4)\n",
            "Collecting aniso8601>=0.82\n",
            "  Downloading aniso8601-9.0.1-py2.py3-none-any.whl (52 kB)\n",
            "\u001b[K     |████████████████████████████████| 52 kB 1.3 MB/s \n",
            "\u001b[?25hRequirement already satisfied: six>=1.3.0 in /usr/local/lib/python3.7/dist-packages (from flask_restful) (1.15.0)\n",
            "Requirement already satisfied: Werkzeug<2.0,>=0.15 in /usr/local/lib/python3.7/dist-packages (from Flask>=0.8->flask_restful) (1.0.1)\n",
            "Requirement already satisfied: itsdangerous<2.0,>=0.24 in /usr/local/lib/python3.7/dist-packages (from Flask>=0.8->flask_restful) (1.1.0)\n",
            "Requirement already satisfied: Jinja2<3.0,>=2.10.1 in /usr/local/lib/python3.7/dist-packages (from Flask>=0.8->flask_restful) (2.11.3)\n",
            "Requirement already satisfied: click<8.0,>=5.1 in /usr/local/lib/python3.7/dist-packages (from Flask>=0.8->flask_restful) (7.1.2)\n",
            "Requirement already satisfied: MarkupSafe>=0.23 in /usr/local/lib/python3.7/dist-packages (from Jinja2<3.0,>=2.10.1->Flask>=0.8->flask_restful) (2.0.1)\n",
            "Installing collected packages: aniso8601, flask-restful\n",
            "Successfully installed aniso8601-9.0.1 flask-restful-0.3.9\n",
            "Looking in indexes: https://pypi.org/simple, https://us-python.pkg.dev/colab-wheels/public/simple/\n",
            "Collecting flask-ngrok\n",
            "  Downloading flask_ngrok-0.0.25-py3-none-any.whl (3.1 kB)\n",
            "Requirement already satisfied: Flask>=0.8 in /usr/local/lib/python3.7/dist-packages (from flask-ngrok) (1.1.4)\n",
            "Requirement already satisfied: requests in /usr/local/lib/python3.7/dist-packages (from flask-ngrok) (2.23.0)\n",
            "Requirement already satisfied: Werkzeug<2.0,>=0.15 in /usr/local/lib/python3.7/dist-packages (from Flask>=0.8->flask-ngrok) (1.0.1)\n",
            "Requirement already satisfied: Jinja2<3.0,>=2.10.1 in /usr/local/lib/python3.7/dist-packages (from Flask>=0.8->flask-ngrok) (2.11.3)\n",
            "Requirement already satisfied: click<8.0,>=5.1 in /usr/local/lib/python3.7/dist-packages (from Flask>=0.8->flask-ngrok) (7.1.2)\n",
            "Requirement already satisfied: itsdangerous<2.0,>=0.24 in /usr/local/lib/python3.7/dist-packages (from Flask>=0.8->flask-ngrok) (1.1.0)\n",
            "Requirement already satisfied: MarkupSafe>=0.23 in /usr/local/lib/python3.7/dist-packages (from Jinja2<3.0,>=2.10.1->Flask>=0.8->flask-ngrok) (2.0.1)\n",
            "Requirement already satisfied: idna<3,>=2.5 in /usr/local/lib/python3.7/dist-packages (from requests->flask-ngrok) (2.10)\n",
            "Requirement already satisfied: chardet<4,>=3.0.2 in /usr/local/lib/python3.7/dist-packages (from requests->flask-ngrok) (3.0.4)\n",
            "Requirement already satisfied: certifi>=2017.4.17 in /usr/local/lib/python3.7/dist-packages (from requests->flask-ngrok) (2022.9.24)\n",
            "Requirement already satisfied: urllib3!=1.25.0,!=1.25.1,<1.26,>=1.21.1 in /usr/local/lib/python3.7/dist-packages (from requests->flask-ngrok) (1.24.3)\n",
            "Installing collected packages: flask-ngrok\n",
            "Successfully installed flask-ngrok-0.0.25\n"
          ]
        }
      ],
      "source": [
        "!pip install flask\n",
        "!pip install flask_restful\n",
        "!pip install flask-ngrok"
      ]
    },
    {
      "cell_type": "code",
      "execution_count": 3,
      "metadata": {
        "id": "S1Pb3lZGIcJx"
      },
      "outputs": [],
      "source": [
        "from flask import Flask\n",
        "from flask_restful import Resource, Api, reqparse\n",
        "from flask_ngrok import run_with_ngrok\n",
        "import ast\n",
        "\n",
        "app = Flask(\"My App\")\n",
        "api = Api(app)"
      ]
    },
    {
      "cell_type": "markdown",
      "metadata": {
        "id": "SWuyqCNRIcJx"
      },
      "source": [
        "## Endpoints"
      ]
    },
    {
      "cell_type": "markdown",
      "metadata": {
        "id": "QAkFW-_VIcJy"
      },
      "source": [
        "We have 2 endpoints, CEOS and Companies. If our API were located at `www.mycoolapi.com`, communications would be done by accessing `www.mycoolapi.com/ceos` and `www.mycoolapi.com/companies`"
      ]
    },
    {
      "cell_type": "code",
      "execution_count": 4,
      "metadata": {
        "id": "GoCbzLmKIcJy"
      },
      "outputs": [],
      "source": [
        "# Create an endpoint as a Python class\n",
        "\n",
        "class Ceos(Resource):\n",
        "    pass\n",
        "\n",
        "class Companies(Resource):\n",
        "    pass\n",
        "\n",
        "api.add_resource(Ceos, '/ceos')\n",
        "api.add_resource(Companies, '/companies')"
      ]
    },
    {
      "cell_type": "code",
      "source": [
        "# add some html so there is something to look at\n",
        "@app.route(\"/\")\n",
        "def home():\n",
        "    return \"<h1>Coolest API</h1>\""
      ],
      "metadata": {
        "id": "5MsFL6vVLd7e"
      },
      "execution_count": 5,
      "outputs": []
    },
    {
      "cell_type": "markdown",
      "metadata": {
        "id": "EgUIqv7LIcJz"
      },
      "source": [
        "Flask needs to know that this class is an endpoint for our API, and so we pass Resource in with the class definition."
      ]
    },
    {
      "cell_type": "markdown",
      "metadata": {
        "id": "OaKv1jHGIcJz"
      },
      "source": [
        "Inside the class, we include our HTTP methods (GET, POST, DELETE, etc.).\n",
        "\n",
        "Run the API (include `if __name__ == '__main__':` before the `app.run()` command when creating a .py file)"
      ]
    },
    {
      "cell_type": "code",
      "source": [
        "# use ngrok\n",
        "!pip install pyngrok\n",
        "# NOTE: For the project use your own authtoken\n",
        "!ngrok authtoken 1mvIJph4MZBcieB83167SLwMz2Q_4vPTn8XZfX9UnV6uqTsAr"
      ],
      "metadata": {
        "id": "_16aF19aNL75",
        "outputId": "241ff634-c7ca-417e-877d-53400e3b7d37",
        "colab": {
          "base_uri": "https://localhost:8080/"
        }
      },
      "execution_count": 6,
      "outputs": [
        {
          "output_type": "stream",
          "name": "stdout",
          "text": [
            "Looking in indexes: https://pypi.org/simple, https://us-python.pkg.dev/colab-wheels/public/simple/\n",
            "Collecting pyngrok\n",
            "  Downloading pyngrok-5.1.0.tar.gz (745 kB)\n",
            "\u001b[K     |████████████████████████████████| 745 kB 7.8 MB/s \n",
            "\u001b[?25hRequirement already satisfied: PyYAML in /usr/local/lib/python3.7/dist-packages (from pyngrok) (6.0)\n",
            "Building wheels for collected packages: pyngrok\n",
            "  Building wheel for pyngrok (setup.py) ... \u001b[?25l\u001b[?25hdone\n",
            "  Created wheel for pyngrok: filename=pyngrok-5.1.0-py3-none-any.whl size=19007 sha256=ec0fc9eaec22848ab0f528095f45a65ad11f06bc80bd5186961389af6f400142\n",
            "  Stored in directory: /root/.cache/pip/wheels/bf/e6/af/ccf6598ecefecd44104069371795cb9b3afbcd16987f6ccfb3\n",
            "Successfully built pyngrok\n",
            "Installing collected packages: pyngrok\n",
            "Successfully installed pyngrok-5.1.0\n",
            "Authtoken saved to configuration file: /root/.ngrok2/ngrok.yml\n"
          ]
        }
      ]
    },
    {
      "cell_type": "code",
      "execution_count": 7,
      "metadata": {
        "id": "XedOJe-_IcJ0",
        "outputId": "3c8a7f88-815b-40bd-9a52-9ec6a9dadedb",
        "colab": {
          "base_uri": "https://localhost:8080/"
        }
      },
      "outputs": [
        {
          "output_type": "stream",
          "name": "stdout",
          "text": [
            " * Serving Flask app \"My App\" (lazy loading)\n",
            " * Environment: production\n",
            "\u001b[31m   WARNING: This is a development server. Do not use it in a production deployment.\u001b[0m\n",
            "\u001b[2m   Use a production WSGI server instead.\u001b[0m\n",
            " * Debug mode: off\n"
          ]
        },
        {
          "output_type": "stream",
          "name": "stderr",
          "text": [
            "INFO:werkzeug: * Running on http://127.0.0.1:5000/ (Press CTRL+C to quit)\n"
          ]
        },
        {
          "output_type": "stream",
          "name": "stdout",
          "text": [
            " * Running on http://5731-34-125-72-122.ngrok.io\n",
            " * Traffic stats available on http://127.0.0.1:4040\n"
          ]
        },
        {
          "output_type": "stream",
          "name": "stderr",
          "text": [
            "INFO:werkzeug:127.0.0.1 - - [02/Nov/2022 16:40:34] \"\u001b[37mGET / HTTP/1.1\u001b[0m\" 200 -\n",
            "INFO:werkzeug:127.0.0.1 - - [02/Nov/2022 16:40:34] \"\u001b[33mGET /favicon.ico HTTP/1.1\u001b[0m\" 404 -\n"
          ]
        }
      ],
      "source": [
        "if __name__ == '__main__':\n",
        "  \n",
        "  run_with_ngrok(app)\n",
        "  app.run()\n"
      ]
    },
    {
      "cell_type": "markdown",
      "metadata": {
        "id": "jcYHw8TdIcJ0"
      },
      "source": [
        "## Writing API methods"
      ]
    },
    {
      "cell_type": "markdown",
      "metadata": {
        "id": "wtEWELn3IcJ0"
      },
      "source": [
        "The GET method is the simplest. We return all data stored in the dataframe wrapped inside a dictionary, like so:"
      ]
    },
    {
      "cell_type": "code",
      "execution_count": 8,
      "metadata": {
        "id": "NJoNbi6bIcJ1"
      },
      "outputs": [],
      "source": [
        "class Ceos(Resource):\n",
        "    \n",
        "    def get(self):\n",
        "        ceos = [df_ceos.iloc[i].to_dict() for i in range(len(df_ceos))]\n",
        "        return  ceos , 200 # The 200 is the standard way to say everything is ok\n",
        "\n",
        "class Companies(Resource):\n",
        "    \n",
        "    def get(self):\n",
        "        companies = [df_companies.iloc[i].to_dict() for i in range(len(df_companies))]\n",
        "        return  companies , 200 # The 200 is the standard way to say everything is ok\n",
        "\n",
        "api = Api(Flask(\"My App\"))\n",
        "api.add_resource(Ceos, '/ceos')\n",
        "api.add_resource(Companies, '/companies')"
      ]
    },
    {
      "cell_type": "markdown",
      "metadata": {
        "id": "vZY5b-2RIcJ2"
      },
      "source": [
        "## Customize your GET methods"
      ]
    },
    {
      "cell_type": "markdown",
      "metadata": {
        "id": "ef9km7W1IcJ2"
      },
      "source": [
        "GET methods can be customized to obtain only a subset of the data using **keywords**. These **keywords** are passed through the url. E.g. \n",
        "\n",
        "`www.mycoolapi.com/companies?ticker=aapl`"
      ]
    },
    {
      "cell_type": "markdown",
      "metadata": {
        "id": "CmkwvYUQIcJ2"
      },
      "source": [
        "Ask specific companies or ranges of profits"
      ]
    },
    {
      "cell_type": "code",
      "execution_count": 26,
      "metadata": {
        "id": "ctHb7Z9eIcJ2"
      },
      "outputs": [],
      "source": [
        "class Companies(Resource):\n",
        "\n",
        "    def get(self):\n",
        "\n",
        "        parser = reqparse.RequestParser()\n",
        "\n",
        "        parser.add_argument('ticker', required = False) # If the ticker is mandatory for the request, change to True\n",
        "        parser.add_argument('min_revenue', required=False)\n",
        "\n",
        "        args = parser.parse_args()\n",
        "\n",
        "        # Args is a dictionary\n",
        "        data = df_companies\n",
        "        if args['ticker'] is not None:\n",
        "            data = df_companies[df_companies['Ticker'] == args['ticker']]\n",
        "\n",
        "        if args['min_revenue'] is not None:\n",
        "            data = df_companies[df_companies['Revenue (billions)'] >= args['ticker']]\n",
        "\n",
        "        companies = [data.iloc[i].to_json() for i in range(len(data))]\n",
        "\n",
        "        return companies, 200\n",
        "        "
      ]
    },
    {
      "cell_type": "markdown",
      "metadata": {
        "id": "WD9JoU6kIcJ2"
      },
      "source": [
        "Request CEOS older than some age"
      ]
    },
    {
      "cell_type": "code",
      "execution_count": 27,
      "metadata": {
        "id": "kVQ6uUiaIcJ2"
      },
      "outputs": [],
      "source": [
        "class Ceos(Resource):\n",
        "\n",
        "    def get(self):\n",
        "\n",
        "        parser = reqparse.RequestParser()\n",
        "        parser.add_argument('min_age', required=False)\n",
        "\n",
        "        args = parser.parse_args()\n",
        "\n",
        "        # Args is a dictionary\n",
        "        data = df_ceos\n",
        "        if args['min_age'] is not None:\n",
        "            data = df_ceos[df_ceos['Age'] == args['min_age']]\n",
        "\n",
        "        ceos = [data.iloc[i].to_json() for i in range(len(data))]\n",
        "\n",
        "        return ceos, 200"
      ]
    },
    {
      "cell_type": "code",
      "source": [
        "app=Flask(\"My App\")\n",
        "api = Api(app)\n",
        "api.add_resource(Ceos, '/ceos')\n",
        "api.add_resource(Companies, '/companies')\n",
        "\n",
        "@app.route(\"/\")\n",
        "def home():\n",
        "    return \"<h1>Coolest API</h1>\"\n"
      ],
      "metadata": {
        "id": "xlSLsde3OCNG"
      },
      "execution_count": 28,
      "outputs": []
    },
    {
      "cell_type": "code",
      "source": [
        "\n",
        "if __name__ == '__main__':\n",
        "  \n",
        "  run_with_ngrok(app)\n",
        "  app.run()"
      ],
      "metadata": {
        "id": "ufFUE52lORRi",
        "outputId": "154e0f97-80aa-40f0-8937-e70300928de7",
        "colab": {
          "base_uri": "https://localhost:8080/"
        }
      },
      "execution_count": 29,
      "outputs": [
        {
          "output_type": "stream",
          "name": "stdout",
          "text": [
            " * Serving Flask app \"My App\" (lazy loading)\n",
            " * Environment: production\n",
            "\u001b[31m   WARNING: This is a development server. Do not use it in a production deployment.\u001b[0m\n",
            "\u001b[2m   Use a production WSGI server instead.\u001b[0m\n",
            " * Debug mode: off\n"
          ]
        },
        {
          "output_type": "stream",
          "name": "stderr",
          "text": [
            "INFO:werkzeug: * Running on http://127.0.0.1:5000/ (Press CTRL+C to quit)\n"
          ]
        },
        {
          "output_type": "stream",
          "name": "stdout",
          "text": [
            " * Running on http://ab13-34-125-72-122.ngrok.io\n",
            " * Traffic stats available on http://127.0.0.1:4040\n"
          ]
        },
        {
          "output_type": "stream",
          "name": "stderr",
          "text": [
            "INFO:werkzeug:127.0.0.1 - - [02/Nov/2022 16:52:13] \"\u001b[37mGET / HTTP/1.1\u001b[0m\" 200 -\n",
            "INFO:werkzeug:127.0.0.1 - - [02/Nov/2022 16:52:14] \"\u001b[33mGET /favicon.ico HTTP/1.1\u001b[0m\" 404 -\n",
            "INFO:werkzeug:127.0.0.1 - - [02/Nov/2022 16:52:19] \"\u001b[37mGET /ceos HTTP/1.1\u001b[0m\" 200 -\n",
            "INFO:werkzeug:127.0.0.1 - - [02/Nov/2022 16:52:28] \"\u001b[37mGET /companies HTTP/1.1\u001b[0m\" 200 -\n",
            "INFO:werkzeug:127.0.0.1 - - [02/Nov/2022 16:52:47] \"\u001b[37mGET /companies?ticker=AAPL HTTP/1.1\u001b[0m\" 200 -\n"
          ]
        }
      ]
    },
    {
      "cell_type": "code",
      "source": [],
      "metadata": {
        "id": "nghGX3LIOodN"
      },
      "execution_count": null,
      "outputs": []
    }
  ],
  "metadata": {
    "interpreter": {
      "hash": "3bce3b5366bc5d3beb18138a90777eb607bfd7bcdc5b1b5786ac51c214c88ff2"
    },
    "kernelspec": {
      "display_name": "Python 3.8.11 64-bit ('base': conda)",
      "name": "python3"
    },
    "language_info": {
      "codemirror_mode": {
        "name": "ipython",
        "version": 3
      },
      "file_extension": ".py",
      "mimetype": "text/x-python",
      "name": "python",
      "nbconvert_exporter": "python",
      "pygments_lexer": "ipython3",
      "version": "3.8.11"
    },
    "orig_nbformat": 4,
    "colab": {
      "provenance": []
    }
  },
  "nbformat": 4,
  "nbformat_minor": 0
}